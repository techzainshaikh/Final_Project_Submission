{
 "cells": [
  {
   "cell_type": "code",
   "execution_count": 1,
   "id": "1677a201-31fb-4d75-9190-037b6d4f09fb",
   "metadata": {},
   "outputs": [],
   "source": [
    "from bs4 import BeautifulSoup\n",
    "import requests"
   ]
  },
  {
   "cell_type": "code",
   "execution_count": 6,
   "id": "342afaec-dcdd-4447-a795-104bbe414b4b",
   "metadata": {
    "scrolled": true
   },
   "outputs": [],
   "source": [
    "url = 'https://www.pakwheels.com/new-cars/audi/'\n",
    "request = requests.get(url)\n",
    "soup = BeautifulSoup(request.content,'html.parser')\n"
   ]
  },
  {
   "cell_type": "code",
   "execution_count": 7,
   "id": "4080ae59-d40f-4121-bbc2-2b8754da5f00",
   "metadata": {
    "scrolled": true
   },
   "outputs": [
    {
     "name": "stdout",
     "output_type": "stream",
     "text": [
      "#\n",
      "/ur/new-cars/audi/\n",
      "javascript:void(0)\n",
      "javascript:void(0)\n",
      "/saved-ads\n",
      "/\n",
      "/\n",
      "/used-cars/\n",
      "/used-cars/search/-/\n",
      "/used-cars/search/-/featured_1/?nf=true\n",
      "/used-cars/sell\n",
      "/used-cars/dealers/\n",
      "/used-cars/price-calculator/\n",
      "/used-cars/pakwheels-certified/\n",
      "/products/pakwheels-inspection/\n",
      "/products/pakwheels-sell-it-for-me/\n",
      "/auction-sheet-verification/\n",
      "None\n",
      "/used-cars/karachi/24857\n",
      "/used-cars/lahore/24858\n",
      "/used-cars/islamabad/24856\n",
      "/used-cars/rawalpindi/24831\n",
      "/used-cars/peshawar/24821\n",
      "/used-cars/faisalabad/24753\n",
      "/used-cars/multan/24810\n",
      "/used-cars/gujranwala/24763\n",
      "None\n",
      "/used-cars/toyota-corolla/688\n",
      "/used-cars/honda-civic/642\n",
      "/used-cars/honda-city/664\n",
      "/used-cars/suzuki-cultus/660\n",
      "/used-cars/suzuki-mehran/661\n",
      "/used-cars/toyota-vitz/781\n",
      "/used-cars/suzuki-alto/658\n",
      "/used-cars/toyota-prado/38678\n",
      "/new-cars/\n",
      "/new-cars/\n",
      "/new-cars/compare/\n",
      "/new-cars/reviews/\n",
      "/new-cars/pricelist/\n",
      "/new-cars/on-road-price\n",
      "/new-cars/dealers/\n",
      "None\n",
      "/new-cars/suzuki/\n",
      "/new-cars/toyota/\n",
      "/new-cars/honda/\n",
      "/new-cars/kia/\n",
      "/new-cars/hyundai/\n",
      "/new-cars/changan/\n",
      "/new-cars/mg/\n",
      "/new-cars/bmw/\n",
      "/new-cars/audi/\n",
      "None\n",
      "/new-cars/honda/civic/\n",
      "/new-cars/suzuki/alto/\n",
      "/new-cars/suzuki/cultus/\n",
      "/new-cars/honda/city/\n",
      "/new-cars/toyota/corolla/\n",
      "/new-cars/toyota/yaris/\n",
      "/new-cars/changan/alsvin/\n",
      "/new-cars/suzuki/wagon-r/\n",
      "/new-cars/kia/sportage/\n",
      "/bikes/\n",
      "/used-bikes/\n",
      "/used-bikes/search/-/\n",
      "/used-bikes/search/-/featured_1/\n",
      "/used-bikes/sell\n",
      "/bikes/new-bikes/\n",
      "/bikes/compare/\n",
      "/bikes/reviews/\n",
      "/new-bikes/pricelist/\n",
      "None\n",
      "/bikes/honda/cg-125--2/\n",
      "/bikes/yamaha/ybr-125/\n",
      "/bikes/honda/cd-70--3/\n",
      "/bikes/suzuki/gd-110s/\n",
      "/bikes/suzuki/gs-150/\n",
      "/bikes/honda/pridor/\n",
      "/bikes/yamaha/ybr-125g/\n",
      "/bikes/honda/cb-150f/\n",
      "None\n",
      "/used-bikes/honda-cg-125/56649\n",
      "/used-bikes/honda-cd-70/56630\n",
      "/used-bikes/yamaha-ybr-125/58641\n",
      "/used-bikes/suzuki-gs-150/56555\n",
      "/used-bikes/honda-cb-125f/369803\n",
      "/used-bikes/yamaha-ybr-125g/61790\n",
      "/used-bikes/honda-pridor/211065\n",
      "/used-bikes/hi-speed-infinity-150/210064\n",
      "/accessories-spare-parts/\n",
      "/accessories-spare-parts/search/-/buynow_1/\n",
      "/accessories-spare-parts/search/-/\n",
      "/accessories-spare-parts/sell\n",
      "/videos/\n",
      "https://www.pakwheels.com/forums\n",
      "/blog/\n",
      "javascript:void\n",
      "/rides/\n",
      "/car-import/\n",
      "/car-insurance/\n",
      "/car-finance/\n",
      "/mtmis-online-vehicle-verification/\n",
      "/dlims-driving-license-verification/\n",
      "/petroleum-prices-in-pakistan\n",
      "/products/pakwheels-partner-workshop/\n",
      "/products/car-registration/\n",
      "/products/car-transfer/\n",
      "/used-cars/sell\n",
      "/used-cars/sell\n",
      "/used-bikes/sell\n",
      "/accessories-spare-parts/sell\n",
      "https://play.google.com/store/apps/details?id=com.pakwheels&referrer=utm_source%3Dpakwheels.com%26utm_medium%3Dmobile-web-link%26utm_content%3Dinterstitial%26utm_campaign%3Dorganic-installs\n",
      "https://click.google-analytics.com/redirect?tid=UA-642162-19&url=https%3A%2F%2Fitunes.apple.com%2Fpk%2Fapp%2Fpakwheels%2Fid739776365%3Fmt%3D8&aid=com.pakwheels.www&idfa={idfa}&cs=pakwheels.com&cm=mobile-web-link&cn=organic-installs&cc=interstitial&hash=md5\n",
      "https://appgallery.huawei.com/#/app/C101437147\n",
      "/products/feature_your_ad\n",
      "/\n",
      "/new-cars/\n",
      "/new-cars/audi/\n",
      "/new-cars/pricelist/audi\n",
      "/used-cars/audi/41\n",
      "javascript:void(0);\n",
      "javascript:void(0);\n",
      "/new-cars/audi/q2/\n",
      "/new-cars/audi/q8-e-tron/\n",
      "/new-cars/audi/e-tron/\n",
      "/new-cars/audi/e-tron-gt/\n",
      "/new-cars/audi/a4/\n",
      "/new-cars/audi/a5/\n",
      "/new-cars/audi/a6/\n",
      "/new-cars/audi/a3/\n",
      "/new-cars/audi/q7/\n",
      "/new-cars/audi/q3/\n",
      "/new-cars/audi/a1/\n",
      "/new-cars/audi/q5/\n",
      "/new-cars/audi/a8/\n",
      "/new-cars/audi/a7/\n",
      "/new-cars/audi/q4-e-tron/\n",
      "/new-cars/audi/q8/\n",
      "/new-cars/audi/r8/\n",
      "/new-cars/audi/s5/\n",
      "/new-cars/audi/tt/\n",
      "javascript:\n",
      "javascript:\n",
      "/new-cars/audi/a4/\n",
      "/new-cars/audi/a6/\n",
      "/new-cars/audi/a3/\n",
      "/new-cars/audi/a5/\n",
      "/new-cars/audi/e-tron/\n",
      "/new-cars/audi/e-tron-gt/\n",
      "/accessories-spare-parts/audi/353097\n",
      "/new-cars/audi/reviews\n",
      "/new-cars/audi/q2/reviews/82163\n",
      "/new-cars/audi/e-tron/reviews/81159\n",
      "/new-cars/reviews/new/?ManID=53\n",
      "/forums/\n",
      "/new-cars/compare/\n",
      "/new-cars/compare/mercedes-benz-s-class-vs-audi-a8\n",
      "/new-cars/compare/mercedes-benz-s-class-vs-audi-a8\n",
      "/new-cars/compare/mercedes-benz-e-class-vs-audi-a5\n",
      "/new-cars/compare/bmw-7-series-vs-audi-a8\n",
      "/new-cars/toyota/\n",
      "/new-cars/honda/\n",
      "/new-cars/mercedes-benz/\n",
      "/new-cars/mg/\n",
      "/new-cars/bmw/\n",
      "/new-cars/mazda/\n",
      "/new-cars/lexus/\n",
      "/new-cars/chevrolet/\n",
      "/new-cars/range-rover/\n",
      "/new-cars/porsche/\n",
      "/new-cars/ford/\n",
      "/new-cars/tesla/\n",
      "/new-cars/mini/\n",
      "/new-cars/dodge/\n",
      "/new-cars/jaguar/\n",
      "#alternative-tab-slider\n",
      "#alternative-tab-slider\n",
      "/new-cars/dealers/audi/244652\n",
      "/new-cars/dealers/audi-karachi/244653\n",
      "/new-cars/dealers/audi-lahore/244654\n",
      "/new-cars/dealers/audi-islamabad/244655\n",
      "/accessories-spare-parts/audi-car-care/353102\n",
      "/accessories-spare-parts/audi-interior/518300\n",
      "/accessories-spare-parts/audi-tools-gadgets/589894\n",
      "/accessories-spare-parts/audi-brakes/2593121\n",
      "/accessories-spare-parts/lights/164737\n",
      "/accessories-spare-parts/air-freshner/164803\n",
      "/accessories-spare-parts/horns/213291\n",
      "/accessories-spare-parts/gear-oil/213215\n",
      "/accessories-spare-parts/brake-oil/213212\n",
      "/accessories-spare-parts/polishes/164808\n",
      "/accessories-spare-parts/glass-cleaners/213094\n",
      "/accessories-spare-parts/interior-care/213097\n",
      "#loginwithmobileSlider\n",
      "#loginwithmobileSlider\n",
      "None\n",
      "/oauth/google\n",
      "/oauth/facebook\n",
      "javascript:void(0)\n",
      "/main/terms\n",
      "/privacy-policy\n",
      "None\n",
      "None\n",
      "None\n",
      "None\n",
      "None\n",
      "None\n",
      "None\n",
      "None\n",
      "/main/terms\n",
      "/privacy-policy\n",
      "None\n",
      "https://play.google.com/store/apps/details?id=com.pakwheels&referrer=utm_source%3Dpakwheels.com%26utm_medium%3Dweb-link%26utm_content%3Dfooter%26utm_campaign%3Dorganic-installs\n",
      "https://click.google-analytics.com/redirect?tid=UA-642162-19&url=https%3A%2F%2Fitunes.apple.com%2Fpk%2Fapp%2Fpakwheels%2Fid739776365%3Fmt%3D8&aid=com.pakwheels.www&idfa={idfa}&cs=pakwheels.com&cm=web-link&cn=organic-installs&cc=footer&hash=md5\n",
      "https://appgallery.huawei.com/#/app/C101437147\n",
      "/used-cars/toyota/33\n",
      "/used-cars/suzuki/32\n",
      "/used-cars/honda/14\n",
      "/used-cars/daihatsu/12\n",
      "/used-cars/mitsubishi/25\n",
      "/used-cars/nissan/26\n",
      "/used-cars/mercedes-benz/23\n",
      "/used-cars/hyundai/15\n",
      "/used-cars/bmw/8\n",
      "/used-cars/karachi/24857\n",
      "/used-cars/lahore/24858\n",
      "/used-cars/islamabad/24856\n",
      "/used-cars/rawalpindi/24831\n",
      "/used-cars/peshawar/24821\n",
      "/used-cars/faisalabad/24753\n",
      "/used-cars/multan/24810\n",
      "/used-cars/gujranwala/24763\n",
      "/used-cars/sialkot/24841\n",
      "/used-cars/sargodha/24836\n",
      "/used-cars/\n",
      "/used-bikes/\n",
      "/new-cars/\n",
      "/accessories-spare-parts/search/-/buynow_1/\n",
      "/rides/\n",
      "https://www.pakwheels.com/forums\n",
      "/autoshow/\n",
      "/sitemap/\n",
      "/main/about_us\n",
      "/products/\n",
      "/products/advertise\n",
      "/products/feature_your_ad#how_to_pay\n",
      "/FAQ\n",
      "/accessories-spare-parts/refunds-returns-policy/\n",
      "https://pakeventures.simplicant.com/\n",
      "/main/contact_us\n",
      "/used-cars/jeep/72893\n",
      "/used-cars/japanese/65933\n",
      "/used-cars/imported/57428\n",
      "/used-cars/automatic/57336\n",
      "/used-cars/low-priced/328875\n",
      "/used-cars/4x4/107784\n",
      "/used-cars/660cc-cars/190519\n",
      "/used-cars/1000cc-cars/190769\n",
      "/used-cars/hatchback/107774\n",
      "/used-cars/sedan/107775\n",
      "/used-cars/suv/107776\n",
      "/used-cars/crossover/107782\n",
      "/used-cars/mini-van/107785\n",
      "/used-cars/van/162471\n",
      "/used-cars/mpv/145760\n",
      "/used-cars/compact-suv/647299\n",
      "/used-cars/white/107804\n",
      "/used-cars/silver/107802\n",
      "/used-cars/black/107787\n",
      "/used-cars/grey/107794\n",
      "/used-cars/blue/107788\n",
      "/used-cars/red/107801\n",
      "/used-cars/green/107793\n",
      "/used-cars/gold/107792\n",
      "/used-cars/punjab/201902\n",
      "/used-cars/sindh/201932\n",
      "/used-cars/kpk/201917\n",
      "/used-cars/balochistan/201947\n",
      "/used-cars/azad-kashmir/201953\n",
      "/used-cars/federally-administered-tribal-areas/201951\n",
      "/used-cars/sell\n",
      "/used-bikes/sell\n",
      "/accessories-spare-parts/sell\n",
      "https://www.twitter.com/pakwheels\n",
      "https://www.facebook.com/pakwheels\n",
      "https://pinterest.com/pakwheels/\n",
      "https://instagram.com/pakwheels\n",
      "https://www.youtube.com/user/pakwheels\n",
      "/apps\n",
      "https://play.google.com/store/apps/details?id=com.pakwheels&referrer=utm_source%3Dpakwheels.com%26utm_medium%3Dweb-link%26utm_content%3Dfooter%26utm_campaign%3Dorganic-installs\n",
      "https://click.google-analytics.com/redirect?tid=UA-642162-19&url=https%3A%2F%2Fitunes.apple.com%2Fpk%2Fapp%2Fpakwheels%2Fid739776365%3Fmt%3D8&aid=com.pakwheels.www&idfa={idfa}&cs=pakwheels.com&cm=web-link&cn=organic-installs&cc=footer&hash=md5\n",
      "https://appgallery.huawei.com/#/app/C101437147\n",
      "/main/terms\n",
      "/privacy-policy\n"
     ]
    }
   ],
   "source": [
    "for link in soup.find_all('a'):\n",
    "    print(link.get('href'))\n",
    "# not usefull links"
   ]
  },
  {
   "cell_type": "code",
   "execution_count": 13,
   "id": "0617c0de-fa7a-4b57-8542-4b8c74008910",
   "metadata": {},
   "outputs": [
    {
     "data": {
      "text/plain": [
       "4"
      ]
     },
     "execution_count": 13,
     "metadata": {},
     "output_type": "execute_result"
    }
   ],
   "source": [
    "new_audi_container = soup.find(class_='generic-car-widgets-container')\n",
    "car_li =new_audi_container.find_all(class_='col-md-3')\n",
    "len(car_li)"
   ]
  },
  {
   "cell_type": "code",
   "execution_count": 18,
   "id": "18d2531f-3bb0-4a09-a4ef-c1261646eda5",
   "metadata": {},
   "outputs": [
    {
     "name": "stdout",
     "output_type": "stream",
     "text": [
      "/new-cars/audi/q2/\n"
     ]
    }
   ],
   "source": [
    "for car_url in car_li:\n",
    "    link = car_url.find('a')\n",
    "    print(link.get('href'))\n",
    "    # print(car_url.text)\n",
    "    break"
   ]
  },
  {
   "cell_type": "code",
   "execution_count": 23,
   "id": "d0f69cf9-19ca-4e1e-9a8b-b2bc947ba372",
   "metadata": {},
   "outputs": [],
   "source": [
    "new_audi_container = soup.find(class_='generic-car-widgets-container')\n",
    "car_li =new_audi_container.find_all(class_='col-md-3')\n",
    "\n",
    "urls = []\n",
    "for car_url in car_li:\n",
    "    tag = car_url.find('a')\n",
    "    link = 'https://www.pakwheels.com' + tag.get('href')\n",
    "    urls.append(link)\n"
   ]
  },
  {
   "cell_type": "code",
   "execution_count": 24,
   "id": "387c339b-094e-45d5-a021-a3ad30702015",
   "metadata": {},
   "outputs": [
    {
     "data": {
      "text/plain": [
       "['https://www.pakwheels.com/new-cars/audi/q2/',\n",
       " 'https://www.pakwheels.com/new-cars/audi/q8-e-tron/',\n",
       " 'https://www.pakwheels.com/new-cars/audi/e-tron/',\n",
       " 'https://www.pakwheels.com/new-cars/audi/e-tron-gt/']"
      ]
     },
     "execution_count": 24,
     "metadata": {},
     "output_type": "execute_result"
    }
   ],
   "source": [
    "urls"
   ]
  },
  {
   "cell_type": "code",
   "execution_count": 27,
   "id": "60f28dfe-9432-4f2a-81e9-53f0861ebcaa",
   "metadata": {},
   "outputs": [],
   "source": [
    "urls = []\n",
    "audi_containers = soup.find_all(class_='generic-car-widgets-container')\n",
    "for audi_container in audi_containers:\n",
    "    car_li = audi_container.find_all(class_='col-md-3')\n",
    "    for car_url in car_li:\n",
    "        tag = car_url.find('a')\n",
    "        link = 'https://www.pakwheels.com' + tag.get('href')\n",
    "        urls.append(link)"
   ]
  },
  {
   "cell_type": "code",
   "execution_count": 31,
   "id": "76df7cfa-ea7a-41c8-98f3-5d5de81fa272",
   "metadata": {},
   "outputs": [
    {
     "data": {
      "text/plain": [
       "['https://www.pakwheels.com/new-cars/audi/q2/',\n",
       " 'https://www.pakwheels.com/new-cars/audi/q8-e-tron/',\n",
       " 'https://www.pakwheels.com/new-cars/audi/e-tron/',\n",
       " 'https://www.pakwheels.com/new-cars/audi/e-tron-gt/',\n",
       " 'https://www.pakwheels.com/new-cars/audi/a4/',\n",
       " 'https://www.pakwheels.com/new-cars/audi/a5/',\n",
       " 'https://www.pakwheels.com/new-cars/audi/a6/',\n",
       " 'https://www.pakwheels.com/new-cars/audi/a3/',\n",
       " 'https://www.pakwheels.com/new-cars/audi/q7/',\n",
       " 'https://www.pakwheels.com/new-cars/audi/q3/',\n",
       " 'https://www.pakwheels.com/new-cars/audi/a1/',\n",
       " 'https://www.pakwheels.com/new-cars/audi/q5/',\n",
       " 'https://www.pakwheels.com/new-cars/audi/a8/',\n",
       " 'https://www.pakwheels.com/new-cars/audi/a7/',\n",
       " 'https://www.pakwheels.com/new-cars/audi/q4-e-tron/',\n",
       " 'https://www.pakwheels.com/new-cars/audi/q8/',\n",
       " 'https://www.pakwheels.com/new-cars/audi/r8/',\n",
       " 'https://www.pakwheels.com/new-cars/audi/s5/',\n",
       " 'https://www.pakwheels.com/new-cars/audi/tt/']"
      ]
     },
     "execution_count": 31,
     "metadata": {},
     "output_type": "execute_result"
    }
   ],
   "source": [
    "urls"
   ]
  },
  {
   "cell_type": "code",
   "execution_count": 36,
   "id": "7535d79b-6957-422a-95c6-5551bed736de",
   "metadata": {},
   "outputs": [],
   "source": [
    "# https://www.pakwheels.com/new-cars/audi/q2/\n",
    "request = requests.get(urls[0])\n",
    "soup = BeautifulSoup(request.content,'html.parser')"
   ]
  },
  {
   "cell_type": "code",
   "execution_count": 39,
   "id": "21c56e2b-3da7-4c61-9767-0ffbb91eebb2",
   "metadata": {},
   "outputs": [
    {
     "data": {
      "text/plain": [
       "'https://cache4.pakwheels.com/system/car_generation_pictures/6398/original/Audi_Q2_Front.jpg?1650617857'"
      ]
     },
     "execution_count": 39,
     "metadata": {},
     "output_type": "execute_result"
    }
   ],
   "source": [
    "image_url = soup.find('img',class_='lazy')\n",
    "image_url.get('src')"
   ]
  },
  {
   "cell_type": "code",
   "execution_count": 41,
   "id": "fa69779a-b3db-469c-8169-9381e0d1ca1c",
   "metadata": {},
   "outputs": [
    {
     "data": {
      "text/plain": [
       "' 70.5 - 72.5 lacs '"
      ]
     },
     "execution_count": 41,
     "metadata": {},
     "output_type": "execute_result"
    }
   ],
   "source": [
    "price = soup.find(class_='fs22')\n",
    "price.text"
   ]
  },
  {
   "cell_type": "code",
   "execution_count": 52,
   "id": "b3c62597-a57b-4ef7-b802-de3dc19f7867",
   "metadata": {},
   "outputs": [
    {
     "name": "stdout",
     "output_type": "stream",
     "text": [
      "Price : 70.5 - 72.5 lacs\n",
      "Body Type : Crossover\n",
      "Dimensions (Length x Width x Height) : 4191 x 1794 x 1508 mm\n",
      "Ground Clearance : 145 - 147 mm\n",
      "Displacement : 999 cc\n",
      "Transmission : Automatic\n",
      "Horse Power : 116 hp\n",
      "Torque : 200 Nm\n",
      "Boot Space : 405 L\n",
      "Kerb Weight : 1325 KG\n",
      "Fuel Type : Petrol\n",
      "Mileage : 13 - 15 KM/L\n",
      "Fuel Tank Capacity : 65 L\n",
      "Seating Capacity : 5 - Persons\n",
      "Top Speed : 190 - 200 KM/H\n",
      "Tyre Size : 215/55/R17\n"
     ]
    }
   ],
   "source": [
    "table = soup.find('table',class_= 'table bike-version-detailscont')\n",
    "table_rows = table.find_all('tr')\n",
    "for data in table_rows:\n",
    "    table_data = data.find_all('td')\n",
    "    key = table_data[0].text.strip()\n",
    "    value = table_data[1].text.strip()\n",
    "    print(key,\":\",value)\n"
   ]
  },
  {
   "cell_type": "code",
   "execution_count": null,
   "id": "e9072f14-83b5-4123-9a86-1511589e0bf6",
   "metadata": {},
   "outputs": [],
   "source": []
  }
 ],
 "metadata": {
  "kernelspec": {
   "display_name": "Python 3 (ipykernel)",
   "language": "python",
   "name": "python3"
  },
  "language_info": {
   "codemirror_mode": {
    "name": "ipython",
    "version": 3
   },
   "file_extension": ".py",
   "mimetype": "text/x-python",
   "name": "python",
   "nbconvert_exporter": "python",
   "pygments_lexer": "ipython3",
   "version": "3.12.7"
  }
 },
 "nbformat": 4,
 "nbformat_minor": 5
}
